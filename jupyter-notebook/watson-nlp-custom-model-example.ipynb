{
 "cells": [
  {
   "cell_type": "code",
   "execution_count": null,
   "metadata": {},
   "outputs": [],
   "source": [
    "# @hidden_cell\n",
    "# The project token is an authorization token that is used to access project resources like data sources, connections, and used by platform APIs.\n",
    "from project_lib import Project\n",
    "project = Project(project_id='YOUR_ID', project_access_token='YOUR_TOKEN')\n",
    "pc = project.project_context\n"
   ]
  },
  {
   "cell_type": "code",
   "execution_count": null,
   "metadata": {},
   "outputs": [],
   "source": [
    "import os\n",
    "import watson_nlp\n",
    "module_folder = \"NLP_Dict_Module_1\" \n",
    "os.makedirs(module_folder, exist_ok=True)"
   ]
  },
  {
   "cell_type": "code",
   "execution_count": null,
   "metadata": {},
   "outputs": [],
   "source": [
    "# Create a term list dictionary\n",
    "term_file = \"names.dict\"\n",
    "with open(os.path.join(module_folder, term_file), 'w') as dictionary:\n",
    "     dictionary.write('Bruce')\n",
    "     dictionary.write('\\n')\n",
    "     dictionary.write('Peter')\n",
    "     dictionary.write('\\n')\n",
    "\n",
    " # Create a table dictionary\n",
    "table_file = 'Places.csv'\n",
    "with open(os.path.join(module_folder, table_file), 'w') as places:\n",
    "     places.write(\"\\\"label\\\", \\\"entry\\\"\")\n",
    "     places.write(\"\\n\")\n",
    "     places.write(\"\\\"SIGHT\\\", \\\"Times Square\\\"\")\n",
    "     places.write(\"\\n\")\n",
    "     places.write(\"\\\"PLACE\\\", \\\"5th Avenue\\\"\")\n",
    "     places.write(\"\\n\")"
   ]
  },
  {
   "cell_type": "code",
   "execution_count": null,
   "metadata": {},
   "outputs": [],
   "source": [
    "# Load the dictionaries \n",
    "# Use the following helper method when using a Runtime 22.1 environment with NLP\n",
    "dictionaries = watson_nlp.toolkit.DictionaryConfig.load_all([{\n",
    "      'name': 'Names',\n",
    "      'source': term_file,\n",
    "      'case':'insensitive'\n",
    "  }, {\n",
    "      'name': 'places_and_sights_mappings',\n",
    "      'source': table_file,\n",
    "      'dict_type': 'table',\n",
    "      'mappings': {\n",
    "          'columns': ['label', 'entry'],\n",
    "          'entry': 'entry'\n",
    "      }\n",
    "  }])"
   ]
  },
  {
   "cell_type": "code",
   "execution_count": null,
   "metadata": {},
   "outputs": [],
   "source": [
    "custom_dict_block = watson_nlp.resources.feature_extractor.RBR.train(module_folder, \n",
    "language='en', dictionaries=dictionaries)"
   ]
  },
  {
   "cell_type": "code",
   "execution_count": null,
   "metadata": {},
   "outputs": [],
   "source": [
    "custom_dict_block.run('Bruce is at Times Square')"
   ]
  },
  {
   "cell_type": "code",
   "execution_count": null,
   "metadata": {},
   "outputs": [],
   "source": [
    "custom_dict_block.run('Bruce is at Times Square and Tim plans to go to the 5th Avenue')"
   ]
  },
  {
   "cell_type": "code",
   "execution_count": null,
   "metadata": {},
   "outputs": [],
   "source": [
    "RBR_result = custom_dict_block.executor.get_raw_response('Bruce is at Times Square', language='en')\n",
    "print(RBR_result)"
   ]
  },
  {
   "cell_type": "code",
   "execution_count": null,
   "metadata": {
    "scrolled": true
   },
   "outputs": [],
   "source": [
    "project.save_data(\"my-custom-watson-nlp-model\", custom_dict_block.as_file_like_object(), overwrite=True)"
   ]
  },
  {
   "cell_type": "code",
   "execution_count": null,
   "metadata": {},
   "outputs": [],
   "source": []
  }
 ],
 "metadata": {
  "kernelspec": {
   "display_name": "Python 3 (ipykernel)",
   "language": "python",
   "name": "python3"
  },
  "language_info": {
   "codemirror_mode": {
    "name": "ipython",
    "version": 3
   },
   "file_extension": ".py",
   "mimetype": "text/x-python",
   "name": "python",
   "nbconvert_exporter": "python",
   "pygments_lexer": "ipython3",
   "version": "3.11.1"
  }
 },
 "nbformat": 4,
 "nbformat_minor": 1
}
